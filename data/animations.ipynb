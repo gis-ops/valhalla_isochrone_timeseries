{
 "cells": [
  {
   "cell_type": "code",
   "execution_count": 1,
   "id": "c8e2831b-1102-40da-8ae8-b37c0a7439a6",
   "metadata": {},
   "outputs": [],
   "source": [
    "import geopandas as gpd\n",
    "import pandas as pd\n",
    "from matplotlib import pyplot as plt\n",
    "import contextily as cx\n",
    "import imageio as iio\n",
    "from io import BytesIO\n",
    "import numpy as np\n",
    "import matplotlib\n",
    "from matplotlib.lines import Line2D\n",
    "matplotlib.use('agg')"
   ]
  },
  {
   "cell_type": "code",
   "execution_count": 2,
   "id": "b88d5ba4-4a33-4ae8-8ad5-084c51439a49",
   "metadata": {},
   "outputs": [],
   "source": [
    "gdf = gpd.read_file(\"./isochrones.geojson\")\n",
    "gdf = gdf.set_crs(\"EPSG:4326\")\n",
    "points = gpd.read_file(\"./points.geojson\").set_crs(\"EPSG:4326\").to_crs(\"EPSG:3857\")"
   ]
  },
  {
   "cell_type": "code",
   "execution_count": 3,
   "id": "08531bf7-0af6-4d52-ac39-18a363448cb3",
   "metadata": {},
   "outputs": [],
   "source": [
    "gdf[\"time\"] = pd.to_datetime(gdf[\"time\"])"
   ]
  },
  {
   "cell_type": "code",
   "execution_count": 4,
   "id": "7c549751-d856-402f-bef0-8c0ae7e3356e",
   "metadata": {},
   "outputs": [],
   "source": [
    "COLORS = [\n",
    "    '#b5152b',\n",
    "    '#ff9900',\n",
    "    '#40b6b8',\n",
    "    '#ff33cc',\n",
    "    '#417900',\n",
    "    '#8A2BE2'\n",
    "]\n",
    "SOURCE = cx.providers.CartoDB.Positron\n",
    "DPI = 50\n",
    "BBOX = gdf.geometry.total_bounds\n",
    "IMG, EXT = cx.bounds2img(*BBOX, ll=True, source=SOURCE)\n",
    "FIGSIZE = [r*2 for r in (16,12)]\n",
    "# PLOT_KWDS = {\"facecolor\": \"#ff990080\", \"edgecolor\":\"#ff9900\"}\n",
    "PLOT_KWDS = [\n",
    "    {\"facecolor\": \"#0070FF66\", \"edgecolor\": \"#0070FF\"},\n",
    "    {\"facecolor\": \"#FFF88066\", \"edgecolor\": \"#FFF880\"},\n",
    "    {\"facecolor\": \"#E6002666\", \"edgecolor\": \"#E60026\"},\n",
    "]"
   ]
  },
  {
   "cell_type": "code",
   "execution_count": 14,
   "id": "ed6ce8b3-f9e9-41ec-a2ea-cf574719e0f2",
   "metadata": {},
   "outputs": [],
   "source": [
    "for ix, (name, group) in enumerate(gdf.to_crs(\"EPSG:3857\").groupby(\"time\")):\n",
    "    fig, ax = plt.subplots(1,1, figsize=FIGSIZE)\n",
    "    _ = ax.imshow(IMG, extent=EXT)\n",
    "    _ = ax.axis(\"off\")\n",
    "    for n, inner_group in reversed(list(group.groupby(\"interval_id\"))):\n",
    "        plot_kwds = PLOT_KWDS[n]\n",
    "        if n == 0:\n",
    "            inner_group.plot(ax=ax, **plot_kwds)\n",
    "        elif n == 1:\n",
    "            geom = group.query(\"interval_id == 1\").unary_union.difference(group.query(\"interval_id == 0\").unary_union)\n",
    "            gpd.GeoDataFrame(geometry=[geom], crs=\"EPSG:3857\").plot(ax=ax, **plot_kwds)\n",
    "        else:\n",
    "            geom = group.query(\"interval_id == 2\").unary_union.difference(group.query(\"interval_id == 1\").unary_union)\n",
    "            gpd.GeoDataFrame(geometry=[geom], crs=\"EPSG:3857\").plot(ax=ax, **plot_kwds) #**dict(plot_kwds, **{\"edgecolor\": \"none\"}))\n",
    "            #inner_group.plot(ax=ax, **dict(plot_kwds, **{\"facecolor\": \"none\"}))\n",
    "    custom_lines = [Line2D([0], [0], color=c[\"facecolor\"], lw=10) for c in PLOT_KWDS]\n",
    "    legend = ax.legend(custom_lines, [\"100\", \"250\", \"500\"], loc=4, prop={'size': 40}, title=\"Isochrone limits (s)\")\n",
    "    plt.setp(legend.get_title(),fontsize=50)\n",
    "    points.plot(ax=ax, color=\"black\", markersize=50)\n",
    "    text = name.strftime(\"%A, %H:%M\")\n",
    "    props = {\"facecolor\": \"white\", \"boxstyle\": \"square\"}\n",
    "    ax.text(EXT[0] + ((EXT[1]-EXT[0])/2)-5000, EXT[2] + 1500, text, fontsize=48, bbox=props)\n",
    "    fig.tight_layout()\n",
    "    plt.savefig(f\"./img/frame_{ix}.jpg\", dpi=DPI)\n",
    "    plt.close(fig)"
   ]
  },
  {
   "cell_type": "code",
   "execution_count": 15,
   "id": "2c7d6d20-bbf8-4d95-86f9-3bebbfcdefa1",
   "metadata": {},
   "outputs": [],
   "source": [
    "with iio.get_writer(\"./valhalla.mp4\", mode=\"I\") as writer:\n",
    "    #for repetition in range(3):\n",
    "        for i in range(ix + 1):\n",
    "            writer.append_data(iio.imread(f\"./img/frame_{i}.jpg\"))"
   ]
  },
  {
   "cell_type": "markdown",
   "id": "75a3629b-617f-4c04-82be-b1aecc024bc5",
   "metadata": {},
   "source": [
    "## Directions"
   ]
  },
  {
   "cell_type": "code",
   "execution_count": 5,
   "id": "a08f2b1d-7a82-46ad-97fe-d8a5e5760101",
   "metadata": {},
   "outputs": [],
   "source": [
    "point_locations = gpd.read_file(\"./directions_locations.geojson\")"
   ]
  },
  {
   "cell_type": "code",
   "execution_count": 84,
   "id": "bae0953e-99f4-4f5c-b7eb-cf2f32fc2441",
   "metadata": {},
   "outputs": [],
   "source": []
  },
  {
   "cell_type": "code",
   "execution_count": 6,
   "id": "3c7367de-e6e1-4f98-a381-bf20ad2fc759",
   "metadata": {
    "tags": []
   },
   "outputs": [],
   "source": [
    "max_ = []\n",
    "for file_index in range(5):\n",
    "    gdf = gpd.read_file(f\"./shp/directions_{0}.shp\")\n",
    "    gdf[\"time\"] = pd.to_datetime(gdf[\"time\"])\n",
    "    gdf[\"time\"] = pd.to_datetime(gdf[\"time\"])\n",
    "    gdf[\"duration_minutes\"] = gdf[\"duration\"] / 60\n",
    "    for ix, (name, group) in enumerate(gdf.groupby(\"time\")):\n",
    "        _ = np.histogram(group[\"duration_minutes\"], bins=20)\n",
    "        max_.append(max(_[0]))\n",
    "MAX_Y = max(max_)"
   ]
  },
  {
   "cell_type": "code",
   "execution_count": 8,
   "id": "dd269839-0317-4dec-b963-25e56c662058",
   "metadata": {
    "tags": []
   },
   "outputs": [],
   "source": [
    "ix = 0\n",
    "for file_index in range(5):\n",
    "    gdf = gpd.read_file(f\"./shp/directions_{file_index}.shp\")\n",
    "    gdf[\"time\"] = pd.to_datetime(gdf[\"time\"])\n",
    "    gdf[\"time\"] = pd.to_datetime(gdf[\"time\"])\n",
    "    gdf[\"duration_minutes\"] = gdf[\"duration\"] / 60\n",
    "    # BBOX = gdf.geometry.total_bounds\n",
    "    IN_BBOX = [gdf.geometry.total_bounds[0] - 0.15, gdf.geometry.total_bounds[1], gdf.geometry.total_bounds[2] + 0.15, gdf.geometry.total_bounds[3]]\n",
    "    # BBOX = [n + 0.01 if i in (0,1) else n - 0.01 for i, n in enumerate(IN_BBOX)] # zoom in, preserve ratio\n",
    "    IMG, EXT = cx.bounds2img(*IN_BBOX, ll=True, source=SOURCE)\n",
    "    FIGSIZE = [r*2 for r in (16,12)]\n",
    "    for name, group in gdf.to_crs(\"EPSG:3857\").groupby(\"time\"):\n",
    "        fig, (ax, hax) = plt.subplots(2,1, figsize=FIGSIZE, gridspec_kw={'height_ratios': [10, 2]})\n",
    "        _ = ax.imshow(IMG, extent=EXT)\n",
    "        _ = ax.axis(\"off\")\n",
    "        group.plot(ax=ax, edgecolor='#40b6b880', linewidth=2)\n",
    "        point_locations.to_crs(\"EPSG:3857\").plot(ax=ax, color=\"black\", markersize=10, zorder=2)\n",
    "        point_locations.iloc[:1].to_crs(\"EPSG:3857\").plot(ax=ax, color=\"#b5152b\", markersize=90, zorder=3)\n",
    "        bins = list(np.arange(0, max(gdf[\"duration_minutes\"]), max(gdf[\"duration_minutes\"]) / 20))\n",
    "        group.hist(\"duration_minutes\", ax=hax, bins=bins, color=\"#40b6b890\", edgecolor=\"#40b6b8\")\n",
    "        hax.set_xlim(min(gdf[\"duration_minutes\"]), max(gdf[\"duration_minutes\"]))\n",
    "        hax.set_ylim(0, MAX_Y)\n",
    "        #hax.set_title(\"Route duration histogram\", fontsize=35)\n",
    "        hax.set_title(\"\", fontsize=35)\n",
    "        hax.set_facecolor('#d1d1d133')\n",
    "        hax.set_ylabel(\"Number of routes\", size=30)\n",
    "        hax.set_xlabel(\"Route duration (minutes)\", size=30)\n",
    "        hax.grid(color='white', linestyle='-', linewidth=2)\n",
    "        _ = [item.set_fontsize(30) for item in hax.get_xticklabels() + hax.get_yticklabels()]\n",
    "        text = name.strftime(\"%A, %H:%M\")\n",
    "        props = {\"facecolor\": \"white\", \"boxstyle\": \"square\"}\n",
    "        ax.text(EXT[0] + ((EXT[1]-EXT[0])/2)-5000, EXT[2] + 3000, text, fontsize=42, bbox=props)\n",
    "        fig.tight_layout()\n",
    "        plt.savefig(f\"./img/dir_frame_{ix}.jpg\", dpi=DPI)\n",
    "        plt.close(fig)\n",
    "        ix += 1\n",
    "    plt.close(\"all\")"
   ]
  },
  {
   "cell_type": "code",
   "execution_count": 10,
   "id": "56c7d91e-530a-4fa2-b6d1-4c65efcbdac4",
   "metadata": {},
   "outputs": [],
   "source": [
    "with iio.get_writer(\"./valhalla_directions.mp4\", mode=\"I\") as writer:\n",
    "    for repetition in range(3):\n",
    "        for i in range(ix):\n",
    "            writer.append_data(iio.imread(f\"./img/dir_frame_{i}.jpg\"))"
   ]
  },
  {
   "cell_type": "code",
   "execution_count": null,
   "id": "0a1f921e-dc51-4742-94ee-8ee80e734f8f",
   "metadata": {},
   "outputs": [],
   "source": []
  }
 ],
 "metadata": {
  "kernelspec": {
   "display_name": "Python 3 (ipykernel)",
   "language": "python",
   "name": "python3"
  },
  "language_info": {
   "codemirror_mode": {
    "name": "ipython",
    "version": 3
   },
   "file_extension": ".py",
   "mimetype": "text/x-python",
   "name": "python",
   "nbconvert_exporter": "python",
   "pygments_lexer": "ipython3",
   "version": "3.9.7"
  }
 },
 "nbformat": 4,
 "nbformat_minor": 5
}
