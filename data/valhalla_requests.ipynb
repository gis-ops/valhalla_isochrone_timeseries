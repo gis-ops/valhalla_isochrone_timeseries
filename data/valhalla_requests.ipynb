{
 "cells": [
  {
   "cell_type": "code",
   "execution_count": 1,
   "id": "9d9c8a3b-0b36-4ba6-81f1-d7475976df2c",
   "metadata": {},
   "outputs": [],
   "source": [
    "from datetime import datetime\n",
    "import random\n",
    "import routingpy as rp\n",
    "from shapely.geometry import Point, Polygon, LineString\n",
    "import geopandas as gpd"
   ]
  },
  {
   "cell_type": "markdown",
   "id": "c5f3dc6a-ef9f-4885-8c39-56ffbb3845ef",
   "metadata": {},
   "source": [
    "## Isochrones"
   ]
  },
  {
   "cell_type": "code",
   "execution_count": 2,
   "id": "102d6be7-5aa1-4f77-9493-2da1598537f9",
   "metadata": {},
   "outputs": [],
   "source": [
    "V = rp.Valhalla(\"http://valhalla_hist_traffic-valhalla-1:8002\")\n",
    "START_TIMES = [(n*24*60*60) + 1646625600 for n in range(5)]\n",
    "END_TIMES = [n + 19 * 60 * 60 for n in START_TIMES]\n",
    "LOCATIONS = [\n",
    "    [13.4101, 52.5226],  # Alex\n",
    "    [13.434992,52.480835],  # Neukölln\n",
    "    [13.495309,52.545576],  # Alt-Hohenschönh.\n",
    "    [13.351479,52.550044],  # Wedding  \n",
    "    [13.330997,52.487294]  # Wilmersdorf\n",
    "]"
   ]
  },
  {
   "cell_type": "code",
   "execution_count": 3,
   "id": "edc7eecc-d44c-46e4-80b9-d1cee6fff3e2",
   "metadata": {},
   "outputs": [],
   "source": [
    "def strf_epoch(e: int) -> str:\n",
    "    return datetime.utcfromtimestamp(e).isoformat()[:-3]"
   ]
  },
  {
   "cell_type": "code",
   "execution_count": 4,
   "id": "2fdeb86c-c9ae-4767-8e78-c828035e675f",
   "metadata": {},
   "outputs": [],
   "source": [
    "def time_range(start_epoch: int, end_epoch: int, step: int = 300):\n",
    "    for time_ in range(start_epoch, end_epoch, step):\n",
    "        yield {\"type\": 1, \"value\": strf_epoch(time_)}"
   ]
  },
  {
   "cell_type": "code",
   "execution_count": 12,
   "id": "5d2bb966-ea23-4218-b99a-15706f3019b4",
   "metadata": {},
   "outputs": [],
   "source": [
    "isochrones_data = []\n",
    "point_ix = 0\n",
    "for location in LOCATIONS:\n",
    "    for START_TIME, END_TIME in zip(START_TIMES, END_TIMES):\n",
    "        for date_time in time_range(START_TIME, END_TIME, 900):\n",
    "            isochrones = V.isochrones(locations=location, profile=\"auto\", intervals=[100, 250, 500], date_time=date_time)\n",
    "            interval_ix = 0\n",
    "            for isochrone in isochrones:\n",
    "                iso_geom = Polygon(isochrone.geometry)\n",
    "                isochrones_data.append({\"data\": {\"time\": date_time[\"value\"], \"center\": Point(*location), \"loc_id\": point_ix, \"interval_id\": interval_ix}, \"geometry\": iso_geom})\n",
    "                interval_ix += 1\n",
    "    point_ix += 1"
   ]
  },
  {
   "cell_type": "code",
   "execution_count": 13,
   "id": "5b699547-1043-4afe-8f35-a5b32ad5aaca",
   "metadata": {},
   "outputs": [],
   "source": [
    "iso_df = gpd.GeoDataFrame(data=[i[\"data\"] for i in isochrones_data] ,geometry=[i[\"geometry\"] for i in isochrones_data], crs=\"EPSG:4326\")"
   ]
  },
  {
   "cell_type": "code",
   "execution_count": 14,
   "id": "26ea16bf-d694-4105-9ac2-950b9ee3b2d6",
   "metadata": {},
   "outputs": [],
   "source": [
    "iso_df_polys = iso_df.drop(columns=[\"center\"])"
   ]
  },
  {
   "cell_type": "code",
   "execution_count": 15,
   "id": "d05d72a2-ec2c-4672-b346-f1b2d17ac7c0",
   "metadata": {},
   "outputs": [],
   "source": [
    "with open(\"./isochrones.geojson\", \"w\") as fh:\n",
    "    fh.write(iso_df_polys.to_json())"
   ]
  },
  {
   "cell_type": "code",
   "execution_count": 16,
   "id": "3140ca91-9395-41f6-a16d-b2db0c874615",
   "metadata": {},
   "outputs": [],
   "source": [
    "with open(\"./points.geojson\", \"w\") as fh:\n",
    "    fh.write(gpd.GeoDataFrame(iso_df[\"center\"].drop_duplicates()).rename(columns={\"center\": \"geometry\"}).to_json())"
   ]
  },
  {
   "cell_type": "markdown",
   "id": "475c5be5-edf5-4696-b9b7-64e9126d5ed9",
   "metadata": {},
   "source": [
    "## Directions"
   ]
  },
  {
   "cell_type": "code",
   "execution_count": 5,
   "id": "ea5e551c-4957-40ba-b50a-d2adeab2da25",
   "metadata": {},
   "outputs": [],
   "source": [
    "gdf = gpd.read_file(\"./adressen_berlin.geojson\")"
   ]
  },
  {
   "cell_type": "code",
   "execution_count": 6,
   "id": "aa51ebe2-14e1-4283-bea8-83550c8e16b0",
   "metadata": {},
   "outputs": [],
   "source": [
    "LOCATIONS = [\n",
    " [13.4101, 52.5226],  # Alex\n",
    "    *[row.geometry[0].coords[0] for index, row in gdf.sample(500, random_state=1).iterrows()]\n",
    "]\n",
    "del gdf"
   ]
  },
  {
   "cell_type": "code",
   "execution_count": 7,
   "id": "d46c4c43-f695-4892-aa4d-af2f0c025be1",
   "metadata": {},
   "outputs": [],
   "source": [
    "point_ix = 0\n",
    "for file_index, (START_TIME, END_TIME) in enumerate(zip(START_TIMES, END_TIMES)):\n",
    "    directions_data = []\n",
    "    for date_time in (time_range(START_TIME, END_TIME, 900)):\n",
    "        for location in LOCATIONS[1:]:\n",
    "            directions = V.directions(locations=[location, LOCATIONS[0]], profile=\"auto\", intervals=[100, 250, 500], date_time=date_time)\n",
    "            geom = LineString(directions.geometry)\n",
    "            directions_data.append({\"data\":\n",
    "                                    {\n",
    "                                        \"time\": date_time[\"value\"], \n",
    "                                        \"loc_id\": point_ix,\n",
    "                                        \"duration\": directions.duration,\n",
    "                                        \"distance\": directions.distance\n",
    "                                    }, \n",
    "                                    \"geometry\": geom})\n",
    "    directions_df = gpd.GeoDataFrame(data=[d[\"data\"] for d in directions_data] ,geometry=[d[\"geometry\"] for d in directions_data], crs=\"EPSG:4326\")\n",
    "    directions_df.to_file(f\"./shp/directions_{file_index}.shp\")\n",
    "    point_ix += 1"
   ]
  },
  {
   "cell_type": "code",
   "execution_count": 8,
   "id": "a298c9f1-a62f-447d-a988-f8d23a02b937",
   "metadata": {},
   "outputs": [],
   "source": [
    "dir_points_df = gpd.GeoDataFrame(geometry=[Point(*l) for l in LOCATIONS], crs=\"EPSG:4326\")"
   ]
  },
  {
   "cell_type": "code",
   "execution_count": 9,
   "id": "41af6836-dcc6-4486-883e-0cc8e9ed52af",
   "metadata": {},
   "outputs": [],
   "source": [
    "with open(\"./directions_locations.geojson\", \"w\") as fh:\n",
    "    fh.write(dir_points_df.to_json())"
   ]
  },
  {
   "cell_type": "code",
   "execution_count": 11,
   "id": "429381f7-111f-4826-bbd9-c31ea146ef92",
   "metadata": {},
   "outputs": [],
   "source": [
    "del directions_df"
   ]
  },
  {
   "cell_type": "code",
   "execution_count": null,
   "id": "55b2777b-288d-4f29-9da1-a078cc3ff40b",
   "metadata": {},
   "outputs": [],
   "source": [
    "    "
   ]
  }
 ],
 "metadata": {
  "kernelspec": {
   "display_name": "Python 3 (ipykernel)",
   "language": "python",
   "name": "python3"
  },
  "language_info": {
   "codemirror_mode": {
    "name": "ipython",
    "version": 3
   },
   "file_extension": ".py",
   "mimetype": "text/x-python",
   "name": "python",
   "nbconvert_exporter": "python",
   "pygments_lexer": "ipython3",
   "version": "3.9.7"
  }
 },
 "nbformat": 4,
 "nbformat_minor": 5
}
